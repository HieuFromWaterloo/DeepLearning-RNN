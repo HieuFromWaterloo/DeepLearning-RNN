{
 "cells": [
  {
   "cell_type": "markdown",
   "metadata": {},
   "source": [
    "# RNN for TS Experiment"
   ]
  },
  {
   "cell_type": "code",
   "execution_count": 1,
   "metadata": {
    "collapsed": true
   },
   "outputs": [],
   "source": [
    "import numpy as np\n",
    "import tensorflow as tf\n",
    "import matplotlib.pyplot as plt\n",
    "%matplotlib inline"
   ]
  },
  {
   "cell_type": "code",
   "execution_count": 2,
   "metadata": {
    "collapsed": false
   },
   "outputs": [],
   "source": [
    "import pandas_datareader\n",
    "import datetime\n",
    "import pandas_datareader.data as web\n",
    "import pandas as pd"
   ]
  },
  {
   "cell_type": "markdown",
   "metadata": {},
   "source": [
    "source:\n",
    "http://www.deeplearningitalia.com/wp-content/uploads/2017/12/Dropbox_Hands-On-Machine-Learning-with-Scikit-Learn-and-Tensorflow-Aurelien-Geron.pdf\n",
    "\n",
    "http://www.deeplearningbook.org/"
   ]
  },
  {
   "cell_type": "markdown",
   "metadata": {},
   "source": [
    "### The Data"
   ]
  },
  {
   "cell_type": "code",
   "execution_count": 308,
   "metadata": {
    "collapsed": false
   },
   "outputs": [
    {
     "name": "stderr",
     "output_type": "stream",
     "text": [
      "/home/hugh/anaconda3/lib/python3.5/site-packages/pandas_datareader/google/daily.py:40: UnstableAPIWarning: \n",
      "The Google Finance API has not been stable since late 2017. Requests seem\n",
      "to fail at random. Failure is especially common when bulk downloading.\n",
      "\n",
      "  warnings.warn(UNSTABLE_WARNING, UnstableAPIWarning)\n"
     ]
    }
   ],
   "source": [
    "# get data for tesla stock using pandas data reader api\n",
    "start = datetime.datetime(2012, 1, 1)\n",
    "end = datetime.datetime(2017,1, 1)\n",
    "tesla = web.DataReader(\"TSLA\", \"google\", start, end)"
   ]
  },
  {
   "cell_type": "code",
   "execution_count": 58,
   "metadata": {
    "collapsed": false
   },
   "outputs": [
    {
     "data": {
      "text/html": [
       "<div>\n",
       "<style scoped>\n",
       "    .dataframe tbody tr th:only-of-type {\n",
       "        vertical-align: middle;\n",
       "    }\n",
       "\n",
       "    .dataframe tbody tr th {\n",
       "        vertical-align: top;\n",
       "    }\n",
       "\n",
       "    .dataframe thead th {\n",
       "        text-align: right;\n",
       "    }\n",
       "</style>\n",
       "<table border=\"1\" class=\"dataframe\">\n",
       "  <thead>\n",
       "    <tr style=\"text-align: right;\">\n",
       "      <th></th>\n",
       "      <th>Open</th>\n",
       "      <th>High</th>\n",
       "      <th>Low</th>\n",
       "      <th>Close</th>\n",
       "      <th>Volume</th>\n",
       "    </tr>\n",
       "    <tr>\n",
       "      <th>Date</th>\n",
       "      <th></th>\n",
       "      <th></th>\n",
       "      <th></th>\n",
       "      <th></th>\n",
       "      <th></th>\n",
       "    </tr>\n",
       "  </thead>\n",
       "  <tbody>\n",
       "    <tr>\n",
       "      <th>2012-01-03</th>\n",
       "      <td>28.94</td>\n",
       "      <td>29.50</td>\n",
       "      <td>27.65</td>\n",
       "      <td>28.08</td>\n",
       "      <td>928052</td>\n",
       "    </tr>\n",
       "    <tr>\n",
       "      <th>2012-01-04</th>\n",
       "      <td>28.21</td>\n",
       "      <td>28.67</td>\n",
       "      <td>27.50</td>\n",
       "      <td>27.71</td>\n",
       "      <td>630036</td>\n",
       "    </tr>\n",
       "    <tr>\n",
       "      <th>2012-01-05</th>\n",
       "      <td>27.76</td>\n",
       "      <td>27.93</td>\n",
       "      <td>26.85</td>\n",
       "      <td>27.12</td>\n",
       "      <td>1005432</td>\n",
       "    </tr>\n",
       "    <tr>\n",
       "      <th>2012-01-06</th>\n",
       "      <td>27.20</td>\n",
       "      <td>27.79</td>\n",
       "      <td>26.41</td>\n",
       "      <td>26.89</td>\n",
       "      <td>687081</td>\n",
       "    </tr>\n",
       "    <tr>\n",
       "      <th>2012-01-09</th>\n",
       "      <td>27.00</td>\n",
       "      <td>27.49</td>\n",
       "      <td>26.12</td>\n",
       "      <td>27.25</td>\n",
       "      <td>896951</td>\n",
       "    </tr>\n",
       "  </tbody>\n",
       "</table>\n",
       "</div>"
      ],
      "text/plain": [
       "             Open   High    Low  Close   Volume\n",
       "Date                                           \n",
       "2012-01-03  28.94  29.50  27.65  28.08   928052\n",
       "2012-01-04  28.21  28.67  27.50  27.71   630036\n",
       "2012-01-05  27.76  27.93  26.85  27.12  1005432\n",
       "2012-01-06  27.20  27.79  26.41  26.89   687081\n",
       "2012-01-09  27.00  27.49  26.12  27.25   896951"
      ]
     },
     "execution_count": 58,
     "metadata": {},
     "output_type": "execute_result"
    }
   ],
   "source": [
    "tesla.head()"
   ]
  },
  {
   "cell_type": "code",
   "execution_count": 309,
   "metadata": {
    "collapsed": false
   },
   "outputs": [],
   "source": [
    "# Ensure the index must be in proper datetime format\n",
    "tesla.index = pd.to_datetime(tesla.index)"
   ]
  },
  {
   "cell_type": "code",
   "execution_count": 310,
   "metadata": {
    "collapsed": false
   },
   "outputs": [
    {
     "data": {
      "text/html": [
       "<div>\n",
       "<style scoped>\n",
       "    .dataframe tbody tr th:only-of-type {\n",
       "        vertical-align: middle;\n",
       "    }\n",
       "\n",
       "    .dataframe tbody tr th {\n",
       "        vertical-align: top;\n",
       "    }\n",
       "\n",
       "    .dataframe thead th {\n",
       "        text-align: right;\n",
       "    }\n",
       "</style>\n",
       "<table border=\"1\" class=\"dataframe\">\n",
       "  <thead>\n",
       "    <tr style=\"text-align: right;\">\n",
       "      <th></th>\n",
       "      <th>Open</th>\n",
       "      <th>High</th>\n",
       "      <th>Low</th>\n",
       "      <th>Close</th>\n",
       "      <th>Volume</th>\n",
       "    </tr>\n",
       "    <tr>\n",
       "      <th>Date</th>\n",
       "      <th></th>\n",
       "      <th></th>\n",
       "      <th></th>\n",
       "      <th></th>\n",
       "      <th></th>\n",
       "    </tr>\n",
       "  </thead>\n",
       "  <tbody>\n",
       "    <tr>\n",
       "      <th>2012-01-03</th>\n",
       "      <td>28.94</td>\n",
       "      <td>29.50</td>\n",
       "      <td>27.65</td>\n",
       "      <td>28.08</td>\n",
       "      <td>928052</td>\n",
       "    </tr>\n",
       "    <tr>\n",
       "      <th>2012-01-04</th>\n",
       "      <td>28.21</td>\n",
       "      <td>28.67</td>\n",
       "      <td>27.50</td>\n",
       "      <td>27.71</td>\n",
       "      <td>630036</td>\n",
       "    </tr>\n",
       "    <tr>\n",
       "      <th>2012-01-05</th>\n",
       "      <td>27.76</td>\n",
       "      <td>27.93</td>\n",
       "      <td>26.85</td>\n",
       "      <td>27.12</td>\n",
       "      <td>1005432</td>\n",
       "    </tr>\n",
       "    <tr>\n",
       "      <th>2012-01-06</th>\n",
       "      <td>27.20</td>\n",
       "      <td>27.79</td>\n",
       "      <td>26.41</td>\n",
       "      <td>26.89</td>\n",
       "      <td>687081</td>\n",
       "    </tr>\n",
       "    <tr>\n",
       "      <th>2012-01-09</th>\n",
       "      <td>27.00</td>\n",
       "      <td>27.49</td>\n",
       "      <td>26.12</td>\n",
       "      <td>27.25</td>\n",
       "      <td>896951</td>\n",
       "    </tr>\n",
       "  </tbody>\n",
       "</table>\n",
       "</div>"
      ],
      "text/plain": [
       "             Open   High    Low  Close   Volume\n",
       "Date                                           \n",
       "2012-01-03  28.94  29.50  27.65  28.08   928052\n",
       "2012-01-04  28.21  28.67  27.50  27.71   630036\n",
       "2012-01-05  27.76  27.93  26.85  27.12  1005432\n",
       "2012-01-06  27.20  27.79  26.41  26.89   687081\n",
       "2012-01-09  27.00  27.49  26.12  27.25   896951"
      ]
     },
     "execution_count": 310,
     "metadata": {},
     "output_type": "execute_result"
    }
   ],
   "source": [
    "tesla.head()"
   ]
  },
  {
   "cell_type": "code",
   "execution_count": 4,
   "metadata": {
    "collapsed": true
   },
   "outputs": [],
   "source": [
    "tesla.to_csv('Tesla_Stock.csv')"
   ]
  },
  {
   "cell_type": "code",
   "execution_count": 17,
   "metadata": {
    "collapsed": false
   },
   "outputs": [
    {
     "data": {
      "image/png": "[encoded data removed]",
      "text/plain": [
       "<matplotlib.figure.Figure at 0x7fa0e85b1898>"
      ]
     },
     "metadata": {},
     "output_type": "display_data"
    }
   ],
   "source": [
    "tesla['Open'].plot(label='Tesla',figsize=(16,8),title='Open Price')\n",
    "plt.legend()\n",
    "plt.tight_layout()"
   ]
  },
  {
   "cell_type": "code",
   "execution_count": 9,
   "metadata": {
    "collapsed": false
   },
   "outputs": [
    {
     "data": {
      "text/plain": [
       "<matplotlib.axes._subplots.AxesSubplot at 0x7fa0ec6bd080>"
      ]
     },
     "execution_count": 9,
     "metadata": {},
     "output_type": "execute_result"
    },
    {
     "data": {
      "image/png": "[encoded data removed]",
      "text/plain": [
       "<matplotlib.figure.Figure at 0x7fa0ec6a90f0>"
      ]
     },
     "metadata": {},
     "output_type": "display_data"
    }
   ],
   "source": [
    "tesla['Volume'].plot(label='Tesla',figsize=(16,8),title='Volume Traded')"
   ]
  },
  {
   "cell_type": "code",
   "execution_count": 29,
   "metadata": {
    "collapsed": false
   },
   "outputs": [
    {
     "data": {
      "text/plain": [
       "<matplotlib.axes._subplots.AxesSubplot at 0x7fa0e85faa90>"
      ]
     },
     "execution_count": 29,
     "metadata": {},
     "output_type": "execute_result"
    },
    {
     "data": {
      "image/png": "[encoded data removed]",
      "text/plain": [
       "<matplotlib.figure.Figure at 0x7fa0ec385c50>"
      ]
     },
     "metadata": {},
     "output_type": "display_data"
    }
   ],
   "source": [
    "# Moving average of stock prices across time series\n",
    "tesla['MA50'] = tesla['Open'].rolling(50).mean()\n",
    "tesla['MA200'] = tesla['Open'].rolling(200).mean()\n",
    "tesla[['Open','MA50','MA200']].plot(label='gm',figsize=(16,8))"
   ]
  },
  {
   "cell_type": "code",
   "execution_count": 30,
   "metadata": {
    "collapsed": true
   },
   "outputs": [],
   "source": [
    "tesla['returns'] = tesla['Close'].pct_change(1)"
   ]
  },
  {
   "cell_type": "code",
   "execution_count": 31,
   "metadata": {
    "collapsed": false
   },
   "outputs": [
    {
     "data": {
      "text/plain": [
       "<matplotlib.axes._subplots.AxesSubplot at 0x7fa0e8525630>"
      ]
     },
     "execution_count": 31,
     "metadata": {},
     "output_type": "execute_result"
    },
    {
     "data": {
      "image/png": "[encoded data removed]",
      "text/plain": [
       "<matplotlib.figure.Figure at 0x7fa0e31c4630>"
      ]
     },
     "metadata": {},
     "output_type": "display_data"
    }
   ],
   "source": [
    "tesla['returns'].hist(bins=50)"
   ]
  },
  {
   "cell_type": "code",
   "execution_count": 47,
   "metadata": {
    "collapsed": true
   },
   "outputs": [],
   "source": [
    "# exploration is done so now we can call directly from the csv\n",
    "tesla = pd.read_csv('Tesla_Stock.csv', sep=\",\")"
   ]
  },
  {
   "cell_type": "code",
   "execution_count": 61,
   "metadata": {
    "collapsed": false
   },
   "outputs": [
    {
     "data": {
      "text/html": [
       "<div>\n",
       "<style scoped>\n",
       "    .dataframe tbody tr th:only-of-type {\n",
       "        vertical-align: middle;\n",
       "    }\n",
       "\n",
       "    .dataframe tbody tr th {\n",
       "        vertical-align: top;\n",
       "    }\n",
       "\n",
       "    .dataframe thead th {\n",
       "        text-align: right;\n",
       "    }\n",
       "</style>\n",
       "<table border=\"1\" class=\"dataframe\">\n",
       "  <thead>\n",
       "    <tr style=\"text-align: right;\">\n",
       "      <th></th>\n",
       "      <th>Open</th>\n",
       "      <th>High</th>\n",
       "      <th>Low</th>\n",
       "      <th>Close</th>\n",
       "      <th>Volume</th>\n",
       "    </tr>\n",
       "    <tr>\n",
       "      <th>Date</th>\n",
       "      <th></th>\n",
       "      <th></th>\n",
       "      <th></th>\n",
       "      <th></th>\n",
       "      <th></th>\n",
       "    </tr>\n",
       "  </thead>\n",
       "  <tbody>\n",
       "    <tr>\n",
       "      <th>2012-01-03</th>\n",
       "      <td>28.94</td>\n",
       "      <td>29.50</td>\n",
       "      <td>27.65</td>\n",
       "      <td>28.08</td>\n",
       "      <td>928052</td>\n",
       "    </tr>\n",
       "    <tr>\n",
       "      <th>2012-01-04</th>\n",
       "      <td>28.21</td>\n",
       "      <td>28.67</td>\n",
       "      <td>27.50</td>\n",
       "      <td>27.71</td>\n",
       "      <td>630036</td>\n",
       "    </tr>\n",
       "    <tr>\n",
       "      <th>2012-01-05</th>\n",
       "      <td>27.76</td>\n",
       "      <td>27.93</td>\n",
       "      <td>26.85</td>\n",
       "      <td>27.12</td>\n",
       "      <td>1005432</td>\n",
       "    </tr>\n",
       "    <tr>\n",
       "      <th>2012-01-06</th>\n",
       "      <td>27.20</td>\n",
       "      <td>27.79</td>\n",
       "      <td>26.41</td>\n",
       "      <td>26.89</td>\n",
       "      <td>687081</td>\n",
       "    </tr>\n",
       "    <tr>\n",
       "      <th>2012-01-09</th>\n",
       "      <td>27.00</td>\n",
       "      <td>27.49</td>\n",
       "      <td>26.12</td>\n",
       "      <td>27.25</td>\n",
       "      <td>896951</td>\n",
       "    </tr>\n",
       "  </tbody>\n",
       "</table>\n",
       "</div>"
      ],
      "text/plain": [
       "             Open   High    Low  Close   Volume\n",
       "Date                                           \n",
       "2012-01-03  28.94  29.50  27.65  28.08   928052\n",
       "2012-01-04  28.21  28.67  27.50  27.71   630036\n",
       "2012-01-05  27.76  27.93  26.85  27.12  1005432\n",
       "2012-01-06  27.20  27.79  26.41  26.89   687081\n",
       "2012-01-09  27.00  27.49  26.12  27.25   896951"
      ]
     },
     "execution_count": 61,
     "metadata": {},
     "output_type": "execute_result"
    }
   ],
   "source": [
    "tesla.head()"
   ]
  },
  {
   "cell_type": "code",
   "execution_count": 311,
   "metadata": {
    "collapsed": false
   },
   "outputs": [],
   "source": [
    "tesla.dropna(inplace=True)"
   ]
  },
  {
   "cell_type": "code",
   "execution_count": 49,
   "metadata": {
    "collapsed": true
   },
   "outputs": [],
   "source": [
    "#tesla.index = pd.to_datetime(tesla.index)"
   ]
  },
  {
   "cell_type": "code",
   "execution_count": 312,
   "metadata": {
    "collapsed": false
   },
   "outputs": [
    {
     "name": "stdout",
     "output_type": "stream",
     "text": [
      "<class 'pandas.core.frame.DataFrame'>\n",
      "DatetimeIndex: 1258 entries, 2012-01-03 to 2016-12-30\n",
      "Data columns (total 5 columns):\n",
      "Open      1258 non-null float64\n",
      "High      1258 non-null float64\n",
      "Low       1258 non-null float64\n",
      "Close     1258 non-null float64\n",
      "Volume    1258 non-null int64\n",
      "dtypes: float64(4), int64(1)\n",
      "memory usage: 59.0 KB\n"
     ]
    }
   ],
   "source": [
    "tesla.info()"
   ]
  },
  {
   "cell_type": "code",
   "execution_count": 370,
   "metadata": {
    "collapsed": false
   },
   "outputs": [
    {
     "data": {
      "text/html": [
       "<div>\n",
       "<style scoped>\n",
       "    .dataframe tbody tr th:only-of-type {\n",
       "        vertical-align: middle;\n",
       "    }\n",
       "\n",
       "    .dataframe tbody tr th {\n",
       "        vertical-align: top;\n",
       "    }\n",
       "\n",
       "    .dataframe thead th {\n",
       "        text-align: right;\n",
       "    }\n",
       "</style>\n",
       "<table border=\"1\" class=\"dataframe\">\n",
       "  <thead>\n",
       "    <tr style=\"text-align: right;\">\n",
       "      <th></th>\n",
       "      <th>Close</th>\n",
       "    </tr>\n",
       "    <tr>\n",
       "      <th>Date</th>\n",
       "      <th></th>\n",
       "    </tr>\n",
       "  </thead>\n",
       "  <tbody>\n",
       "    <tr>\n",
       "      <th>2012-01-03</th>\n",
       "      <td>28.08</td>\n",
       "    </tr>\n",
       "    <tr>\n",
       "      <th>2012-01-04</th>\n",
       "      <td>27.71</td>\n",
       "    </tr>\n",
       "    <tr>\n",
       "      <th>2012-01-05</th>\n",
       "      <td>27.12</td>\n",
       "    </tr>\n",
       "    <tr>\n",
       "      <th>2012-01-06</th>\n",
       "      <td>26.89</td>\n",
       "    </tr>\n",
       "    <tr>\n",
       "      <th>2012-01-09</th>\n",
       "      <td>27.25</td>\n",
       "    </tr>\n",
       "  </tbody>\n",
       "</table>\n",
       "</div>"
      ],
      "text/plain": [
       "            Close\n",
       "Date             \n",
       "2012-01-03  28.08\n",
       "2012-01-04  27.71\n",
       "2012-01-05  27.12\n",
       "2012-01-06  26.89\n",
       "2012-01-09  27.25"
      ]
     },
     "execution_count": 370,
     "metadata": {},
     "output_type": "execute_result"
    }
   ],
   "source": [
    "tesla1 = tesla.drop(['Open', 'High', 'Low', 'Volume'], axis=1)\n",
    "tesla1.head()"
   ]
  },
  {
   "cell_type": "code",
   "execution_count": 371,
   "metadata": {
    "collapsed": false
   },
   "outputs": [
    {
     "name": "stdout",
     "output_type": "stream",
     "text": [
      "<class 'pandas.core.frame.DataFrame'>\n",
      "DatetimeIndex: 1258 entries, 2012-01-03 to 2016-12-30\n",
      "Data columns (total 1 columns):\n",
      "Close    1258 non-null float64\n",
      "dtypes: float64(1)\n",
      "memory usage: 19.7 KB\n"
     ]
    }
   ],
   "source": [
    "tesla1.info()"
   ]
  },
  {
   "cell_type": "code",
   "execution_count": 372,
   "metadata": {
    "collapsed": false
   },
   "outputs": [
    {
     "data": {
      "text/html": [
       "<div>\n",
       "<style scoped>\n",
       "    .dataframe tbody tr th:only-of-type {\n",
       "        vertical-align: middle;\n",
       "    }\n",
       "\n",
       "    .dataframe tbody tr th {\n",
       "        vertical-align: top;\n",
       "    }\n",
       "\n",
       "    .dataframe thead th {\n",
       "        text-align: right;\n",
       "    }\n",
       "</style>\n",
       "<table border=\"1\" class=\"dataframe\">\n",
       "  <thead>\n",
       "    <tr style=\"text-align: right;\">\n",
       "      <th></th>\n",
       "      <th>Close</th>\n",
       "    </tr>\n",
       "    <tr>\n",
       "      <th>Date</th>\n",
       "      <th></th>\n",
       "    </tr>\n",
       "  </thead>\n",
       "  <tbody>\n",
       "    <tr>\n",
       "      <th>2012-01-03</th>\n",
       "      <td>28.08</td>\n",
       "    </tr>\n",
       "    <tr>\n",
       "      <th>2012-01-04</th>\n",
       "      <td>27.71</td>\n",
       "    </tr>\n",
       "    <tr>\n",
       "      <th>2012-01-05</th>\n",
       "      <td>27.12</td>\n",
       "    </tr>\n",
       "    <tr>\n",
       "      <th>2012-01-06</th>\n",
       "      <td>26.89</td>\n",
       "    </tr>\n",
       "    <tr>\n",
       "      <th>2012-01-09</th>\n",
       "      <td>27.25</td>\n",
       "    </tr>\n",
       "  </tbody>\n",
       "</table>\n",
       "</div>"
      ],
      "text/plain": [
       "            Close\n",
       "Date             \n",
       "2012-01-03  28.08\n",
       "2012-01-04  27.71\n",
       "2012-01-05  27.12\n",
       "2012-01-06  26.89\n",
       "2012-01-09  27.25"
      ]
     },
     "execution_count": 372,
     "metadata": {},
     "output_type": "execute_result"
    }
   ],
   "source": [
    "train_set = tesla1.head(1253)\n",
    "train_set.head()"
   ]
  },
  {
   "cell_type": "code",
   "execution_count": 373,
   "metadata": {
    "collapsed": false
   },
   "outputs": [
    {
     "data": {
      "text/plain": [
       "pandas.core.frame.DataFrame"
      ]
     },
     "execution_count": 373,
     "metadata": {},
     "output_type": "execute_result"
    }
   ],
   "source": [
    "type(train_set)"
   ]
  },
  {
   "cell_type": "code",
   "execution_count": 374,
   "metadata": {
    "collapsed": true
   },
   "outputs": [],
   "source": [
    "# we will be evaluating the test result for the last 5 days of the time series\n",
    "test_set = tesla1.tail(5)"
   ]
  },
  {
   "cell_type": "code",
   "execution_count": 375,
   "metadata": {
    "collapsed": false
   },
   "outputs": [],
   "source": [
    "# Rescale the data before feeding into the model\n",
    "from sklearn.preprocessing import MinMaxScaler\n",
    "scaler = MinMaxScaler()\n",
    "train_scaled = scaler.fit_transform(train_set)\n",
    "test_scaled = scaler.transform(test_set)"
   ]
  },
  {
   "cell_type": "code",
   "execution_count": 376,
   "metadata": {
    "collapsed": false
   },
   "outputs": [
    {
     "data": {
      "text/plain": [
       "array([[ 0.02009497],\n",
       "       [ 0.01868946],\n",
       "       [ 0.01644824],\n",
       "       ..., \n",
       "       [ 0.70655271],\n",
       "       [ 0.70241216],\n",
       "       [ 0.70526116]])"
      ]
     },
     "execution_count": 376,
     "metadata": {},
     "output_type": "execute_result"
    }
   ],
   "source": [
    "train_scaled"
   ]
  },
  {
   "cell_type": "code",
   "execution_count": 318,
   "metadata": {
    "collapsed": true
   },
   "outputs": [],
   "source": [
    "def next_batch(training_data,batch_size,steps):\n",
    "    \"\"\"\n",
    "    INPUT: Data, Batch Size, Time Steps per batch\n",
    "    OUTPUT: A tuple of y time series results. y[:,:-1] and y[:,1:]\n",
    "    \"\"\"\n",
    "    \n",
    "    # Use np.random.randint to set a random starting point index for the batch.\n",
    "    # Remember that each batch needs have the same number of steps in it.\n",
    "    # Must limit the starting point to len(data)-steps\n",
    "    # pick a random point to start for each batch\n",
    "    rand_start = np.random.randint(0,len(training_data)-steps)\n",
    "    \n",
    "    \n",
    "    # Now that we have a starting index we'll need to index the data from\n",
    "    # the random start to random start + steps. Then reshape this data to be (1,steps) -- RNN TS format\n",
    "    # This ensures that we will have the y batch in the batches ON THE TIME SERIES\n",
    "    y_batch = np.array(training_data[rand_start:rand_start+steps+1]).reshape(1,steps+1)\n",
    "    \n",
    "    \n",
    "    # Return the batches. we'll have two batches to return y[:,:-1] and y[:,1:]\n",
    "    # we'll need to reshape these into tensors for the RNN. Depending on your indexing it\n",
    "    # will be either .reshape(-1,steps-1,1) or .reshape(-1,steps,1)\n",
    "    return y_batch[:, :-1].reshape(-1, steps, 1), y_batch[:, 1:].reshape(-1, steps, 1)"
   ]
  },
  {
   "cell_type": "code",
   "execution_count": 378,
   "metadata": {
    "collapsed": true
   },
   "outputs": [],
   "source": [
    "# TF is graph-based so every time before running a new graph, we need to reset it\n",
    "tf.reset_default_graph()"
   ]
  },
  {
   "cell_type": "code",
   "execution_count": 377,
   "metadata": {
    "collapsed": true
   },
   "outputs": [],
   "source": [
    "# Just one feature, the time series\n",
    "num_inputs = 1\n",
    "# Num of steps in each batch - variable dependent on how far we want to predict\n",
    "num_time_steps = 5\n",
    "# 300 neuron layer - variable\n",
    "num_neurons = 300\n",
    "# Just one output, predicted time series\n",
    "num_outputs = 1\n",
    "\n",
    "## try increasing iterations, but decreasing learning rate\n",
    "# learning rate - varies\n",
    "learning_rate = 0.00001 \n",
    "# how many iterations to go through (training steps) - varies\n",
    "num_train_iterations = 15000\n",
    "# Size of the batch of data\n",
    "batch_size = 1"
   ]
  },
  {
   "cell_type": "code",
   "execution_count": 379,
   "metadata": {
    "collapsed": true
   },
   "outputs": [],
   "source": [
    "# input and output placeholder\n",
    "X = tf.placeholder(tf.float32, [None, num_time_steps, num_inputs])\n",
    "y = tf.placeholder(tf.float32, [None, num_time_steps, num_outputs])"
   ]
  },
  {
   "cell_type": "code",
   "execution_count": 380,
   "metadata": {
    "collapsed": true
   },
   "outputs": [],
   "source": [
    "# using basic LSTM Cell\n",
    "# activation function: relu\n",
    "\n",
    "cell = tf.contrib.rnn.OutputProjectionWrapper(\n",
    "    tf.contrib.rnn.BasicLSTMCell(num_units=num_neurons, activation=tf.nn.relu),\n",
    "    output_size=num_outputs)"
   ]
  },
  {
   "cell_type": "code",
   "execution_count": 381,
   "metadata": {
    "collapsed": true
   },
   "outputs": [],
   "source": [
    "outputs, states = tf.nn.dynamic_rnn(cell, X, dtype=tf.float32)"
   ]
  },
  {
   "cell_type": "code",
   "execution_count": 382,
   "metadata": {
    "collapsed": true
   },
   "outputs": [],
   "source": [
    "# Loss function\n",
    "loss = tf.reduce_mean(tf.square(outputs - y)) # MSE\n",
    "optimizer = tf.train.AdamOptimizer(learning_rate=learning_rate)\n",
    "train = optimizer.minimize(loss)"
   ]
  },
  {
   "cell_type": "code",
   "execution_count": 383,
   "metadata": {
    "collapsed": true
   },
   "outputs": [],
   "source": [
    "init = tf.global_variables_initializer()"
   ]
  },
  {
   "cell_type": "code",
   "execution_count": 384,
   "metadata": {
    "collapsed": true
   },
   "outputs": [],
   "source": [
    "saver = tf.train.Saver()"
   ]
  },
  {
   "cell_type": "code",
   "execution_count": 329,
   "metadata": {
    "collapsed": true
   },
   "outputs": [],
   "source": [
    "gpu_options = tf.GPUOptions(per_process_gpu_memory_fraction=0.7)"
   ]
  },
  {
   "cell_type": "code",
   "execution_count": 385,
   "metadata": {
    "collapsed": false,
    "scrolled": true
   },
   "outputs": [
    {
     "name": "stdout",
     "output_type": "stream",
     "text": [
      "0 \tMSE: 0.503946\n",
      "100 \tMSE: 0.0914303\n",
      "200 \tMSE: 0.00699186\n",
      "300 \tMSE: 0.00807252\n",
      "400 \tMSE: 0.299345\n",
      "500 \tMSE: 0.564088\n",
      "600 \tMSE: 0.515802\n",
      "700 \tMSE: 0.47161\n",
      "800 \tMSE: 0.399518\n",
      "900 \tMSE: 0.00144861\n",
      "1000 \tMSE: 0.368639\n",
      "1100 \tMSE: 0.388697\n",
      "1200 \tMSE: 0.325842\n",
      "1300 \tMSE: 0.196348\n",
      "1400 \tMSE: 0.201825\n",
      "1500 \tMSE: 0.0218266\n",
      "1600 \tMSE: 0.00807654\n",
      "1700 \tMSE: 0.00748159\n",
      "1800 \tMSE: 0.272155\n",
      "1900 \tMSE: 0.00751365\n",
      "2000 \tMSE: 0.231192\n",
      "2100 \tMSE: 0.210353\n",
      "2200 \tMSE: 0.208382\n",
      "2300 \tMSE: 0.00334152\n",
      "2400 \tMSE: 0.105723\n",
      "2500 \tMSE: 0.0346567\n",
      "2600 \tMSE: 0.147371\n",
      "2700 \tMSE: 0.0016097\n",
      "2800 \tMSE: 0.000642232\n",
      "2900 \tMSE: 0.179818\n",
      "3000 \tMSE: 0.177728\n",
      "3100 \tMSE: 0.125964\n",
      "3200 \tMSE: 0.0303195\n",
      "3300 \tMSE: 0.0907389\n",
      "3400 \tMSE: 0.153165\n",
      "3500 \tMSE: 0.00345992\n",
      "3600 \tMSE: 0.0826657\n",
      "3700 \tMSE: 0.0733612\n",
      "3800 \tMSE: 0.00483612\n",
      "3900 \tMSE: 0.128371\n",
      "4000 \tMSE: 0.0052558\n",
      "4100 \tMSE: 0.152865\n",
      "4200 \tMSE: 0.0975985\n",
      "4300 \tMSE: 0.0729545\n",
      "4400 \tMSE: 0.00614984\n",
      "4500 \tMSE: 0.015997\n",
      "4600 \tMSE: 0.0296016\n",
      "4700 \tMSE: 0.0486655\n",
      "4800 \tMSE: 0.0989687\n",
      "4900 \tMSE: 0.00702225\n",
      "5000 \tMSE: 0.0507491\n",
      "5100 \tMSE: 0.0217208\n",
      "5200 \tMSE: 0.0327339\n",
      "5300 \tMSE: 0.126653\n",
      "5400 \tMSE: 0.00865734\n",
      "5500 \tMSE: 0.103334\n",
      "5600 \tMSE: 0.00572056\n",
      "5700 \tMSE: 0.0469591\n",
      "5800 \tMSE: 0.0615409\n",
      "5900 \tMSE: 0.00765222\n",
      "6000 \tMSE: 0.00590505\n",
      "6100 \tMSE: 0.0474368\n",
      "6200 \tMSE: 0.0183994\n",
      "6300 \tMSE: 0.0505798\n",
      "6400 \tMSE: 0.0184126\n",
      "6500 \tMSE: 0.00782751\n",
      "6600 \tMSE: 0.00697051\n",
      "6700 \tMSE: 0.0465492\n",
      "6800 \tMSE: 0.0437664\n",
      "6900 \tMSE: 0.00730334\n",
      "7000 \tMSE: 0.0452652\n",
      "7100 \tMSE: 0.00341485\n",
      "7200 \tMSE: 0.010595\n",
      "7300 \tMSE: 0.00779795\n",
      "7400 \tMSE: 0.0478751\n",
      "7500 \tMSE: 0.0528601\n",
      "7600 \tMSE: 0.00655836\n",
      "7700 \tMSE: 0.0502123\n",
      "7800 \tMSE: 0.00593091\n",
      "7900 \tMSE: 0.0369616\n",
      "8000 \tMSE: 0.00634943\n",
      "8100 \tMSE: 0.0296016\n",
      "8200 \tMSE: 0.028446\n",
      "8300 \tMSE: 0.0407141\n",
      "8400 \tMSE: 0.0282573\n",
      "8500 \tMSE: 0.00811139\n",
      "8600 \tMSE: 0.00199871\n",
      "8700 \tMSE: 0.0254169\n",
      "8800 \tMSE: 0.00156498\n",
      "8900 \tMSE: 0.0175608\n",
      "9000 \tMSE: 0.0272487\n",
      "9100 \tMSE: 0.0421447\n",
      "9200 \tMSE: 0.00608826\n",
      "9300 \tMSE: 0.00243719\n",
      "9400 \tMSE: 0.00960737\n",
      "9500 \tMSE: 0.00169004\n",
      "9600 \tMSE: 0.0221359\n",
      "9700 \tMSE: 0.00734138\n",
      "9800 \tMSE: 0.0241058\n",
      "9900 \tMSE: 0.00760343\n",
      "10000 \tMSE: 0.00878477\n",
      "10100 \tMSE: 0.00842007\n",
      "10200 \tMSE: 0.0265744\n",
      "10300 \tMSE: 0.0449772\n",
      "10400 \tMSE: 0.00802786\n",
      "10500 \tMSE: 0.023766\n",
      "10600 \tMSE: 0.0153337\n",
      "10700 \tMSE: 0.0082908\n",
      "10800 \tMSE: 0.0434386\n",
      "10900 \tMSE: 0.0152287\n",
      "11000 \tMSE: 0.0156138\n",
      "11100 \tMSE: 0.016627\n",
      "11200 \tMSE: 0.00984523\n",
      "11300 \tMSE: 0.0308363\n",
      "11400 \tMSE: 0.00920497\n",
      "11500 \tMSE: 0.0136033\n",
      "11600 \tMSE: 0.0138828\n",
      "11700 \tMSE: 0.00947928\n",
      "11800 \tMSE: 0.0109803\n",
      "11900 \tMSE: 0.0090144\n",
      "12000 \tMSE: 0.0249326\n",
      "12100 \tMSE: 0.00960769\n",
      "12200 \tMSE: 0.00794491\n",
      "12300 \tMSE: 0.0086915\n",
      "12400 \tMSE: 0.00914469\n",
      "12500 \tMSE: 0.00790488\n",
      "12600 \tMSE: 0.00506671\n",
      "12700 \tMSE: 0.0193309\n",
      "12800 \tMSE: 0.015131\n",
      "12900 \tMSE: 0.0215669\n",
      "13000 \tMSE: 0.0196132\n",
      "13100 \tMSE: 0.00856473\n",
      "13200 \tMSE: 0.0145991\n",
      "13300 \tMSE: 0.008613\n",
      "13400 \tMSE: 0.00869241\n",
      "13500 \tMSE: 0.0184178\n",
      "13600 \tMSE: 0.0109818\n",
      "13700 \tMSE: 0.00842671\n",
      "13800 \tMSE: 0.00882265\n",
      "13900 \tMSE: 0.00247699\n",
      "14000 \tMSE: 0.00695271\n",
      "14100 \tMSE: 0.0061638\n",
      "14200 \tMSE: 0.00722936\n",
      "14300 \tMSE: 0.00743946\n",
      "14400 \tMSE: 0.0110527\n",
      "14500 \tMSE: 0.0130833\n",
      "14600 \tMSE: 0.0074245\n",
      "14700 \tMSE: 0.00692307\n",
      "14800 \tMSE: 0.0120077\n",
      "14900 \tMSE: 0.00650036\n"
     ]
    }
   ],
   "source": [
    "with tf.Session(config=tf.ConfigProto(gpu_options=gpu_options)) as sess:\n",
    "    sess.run(init)\n",
    "    \n",
    "    for iteration in range(num_train_iterations):\n",
    "        \n",
    "        X_batch, y_batch = next_batch(train_scaled,batch_size,num_time_steps)\n",
    "        sess.run(train, feed_dict={X: X_batch, y: y_batch})\n",
    "        \n",
    "        if iteration % 100 == 0:\n",
    "            \n",
    "            mse = loss.eval(feed_dict={X: X_batch, y: y_batch})\n",
    "            print(iteration, \"\\tMSE:\", mse)\n",
    "    \n",
    "    # Save Model for Later\n",
    "    saver.save(sess, \"./ex_ts_tesla5days_increaseLearnRate\")"
   ]
  },
  {
   "cell_type": "raw",
   "metadata": {},
   "source": [
    "# Test Validation\n",
    "with tf.Session() as sess:\n",
    "    \n",
    "    # Use the Saver instance to restore our saved rnn time series model\n",
    "    saver.restore(sess, \"./ex_ts_tesla5days_increaseLearnRate\")\n",
    "\n",
    "    # Create a np array for our genreative seed from the last 1253 days of the training set data\n",
    "    train_seed = list(train_scaled[-5:])\n",
    "    \n",
    "    ## Now create a for loop that \n",
    "    for iteration in range(5):\n",
    "        X_batch = np.array(train_seed[-num_time_steps:]).reshape(1, num_time_steps, 1)\n",
    "        y_pred = sess.run(outputs, feed_dict={X: X_batch})\n",
    "        train_seed.append(y_pred[0, -1, 0])"
   ]
  },
  {
   "cell_type": "code",
   "execution_count": 157,
   "metadata": {
    "collapsed": false
   },
   "outputs": [
    {
     "data": {
      "text/plain": [
       "[array([ 0.63008547]),\n",
       " array([ 0.61625831]),\n",
       " array([ 0.61435897]),\n",
       " array([ 0.63962013]),\n",
       " array([ 0.64710351]),\n",
       " array([ 0.66043685]),\n",
       " array([ 0.65842355]),\n",
       " array([ 0.63354226]),\n",
       " array([ 0.63289649]),\n",
       " array([ 0.60433048]),\n",
       " array([ 0.60277303]),\n",
       " array([ 0.62301994]),\n",
       " array([ 0.61941121]),\n",
       " array([ 0.6471415]),\n",
       " array([ 0.64387464]),\n",
       " 0.64226747,\n",
       " 0.64035535,\n",
       " 0.63790601,\n",
       " 0.63523412,\n",
       " 0.63260907,\n",
       " 0.63008219,\n",
       " 0.62770325,\n",
       " 0.62550592,\n",
       " 0.62334704,\n",
       " 0.62128478,\n",
       " 0.61919504,\n",
       " 0.61702424,\n",
       " 0.61486405,\n",
       " 0.61262763,\n",
       " 0.61043555]"
      ]
     },
     "execution_count": 157,
     "metadata": {},
     "output_type": "execute_result"
    }
   ],
   "source": [
    "train_seed"
   ]
  },
  {
   "cell_type": "code",
   "execution_count": 387,
   "metadata": {
    "collapsed": false
   },
   "outputs": [],
   "source": [
    "# Inverse Scaling the result to have the actual stock price\n",
    "results = scaler.inverse_transform(np.array(train_seed[5:]).reshape(5,1))"
   ]
  },
  {
   "cell_type": "code",
   "execution_count": 388,
   "metadata": {
    "collapsed": false
   },
   "outputs": [
    {
     "name": "stderr",
     "output_type": "stream",
     "text": [
      "/home/hugh/anaconda3/lib/python3.5/site-packages/ipykernel/__main__.py:1: SettingWithCopyWarning: \n",
      "A value is trying to be set on a copy of a slice from a DataFrame.\n",
      "Try using .loc[row_indexer,col_indexer] = value instead\n",
      "\n",
      "See the caveats in the documentation: http://pandas.pydata.org/pandas-docs/stable/indexing.html#indexing-view-versus-copy\n",
      "  if __name__ == '__main__':\n"
     ]
    }
   ],
   "source": [
    "test_set['Generated'] = results"
   ]
  },
  {
   "cell_type": "code",
   "execution_count": 391,
   "metadata": {
    "collapsed": false
   },
   "outputs": [
    {
     "data": {
      "text/html": [
       "<div>\n",
       "<style scoped>\n",
       "    .dataframe tbody tr th:only-of-type {\n",
       "        vertical-align: middle;\n",
       "    }\n",
       "\n",
       "    .dataframe tbody tr th {\n",
       "        vertical-align: top;\n",
       "    }\n",
       "\n",
       "    .dataframe thead th {\n",
       "        text-align: right;\n",
       "    }\n",
       "</style>\n",
       "<table border=\"1\" class=\"dataframe\">\n",
       "  <thead>\n",
       "    <tr style=\"text-align: right;\">\n",
       "      <th></th>\n",
       "      <th>Close</th>\n",
       "      <th>Generated</th>\n",
       "    </tr>\n",
       "    <tr>\n",
       "      <th>Date</th>\n",
       "      <th></th>\n",
       "      <th></th>\n",
       "    </tr>\n",
       "  </thead>\n",
       "  <tbody>\n",
       "    <tr>\n",
       "      <th>2016-12-23</th>\n",
       "      <td>213.34</td>\n",
       "      <td>210.697815</td>\n",
       "    </tr>\n",
       "    <tr>\n",
       "      <th>2016-12-27</th>\n",
       "      <td>219.53</td>\n",
       "      <td>212.016434</td>\n",
       "    </tr>\n",
       "    <tr>\n",
       "      <th>2016-12-28</th>\n",
       "      <td>219.74</td>\n",
       "      <td>214.188873</td>\n",
       "    </tr>\n",
       "    <tr>\n",
       "      <th>2016-12-29</th>\n",
       "      <td>214.68</td>\n",
       "      <td>215.764481</td>\n",
       "    </tr>\n",
       "    <tr>\n",
       "      <th>2016-12-30</th>\n",
       "      <td>213.69</td>\n",
       "      <td>217.487793</td>\n",
       "    </tr>\n",
       "  </tbody>\n",
       "</table>\n",
       "</div>"
      ],
      "text/plain": [
       "             Close   Generated\n",
       "Date                          \n",
       "2016-12-23  213.34  210.697815\n",
       "2016-12-27  219.53  212.016434\n",
       "2016-12-28  219.74  214.188873\n",
       "2016-12-29  214.68  215.764481\n",
       "2016-12-30  213.69  217.487793"
      ]
     },
     "execution_count": 391,
     "metadata": {},
     "output_type": "execute_result"
    }
   ],
   "source": [
    "test_set"
   ]
  },
  {
   "cell_type": "code",
   "execution_count": 390,
   "metadata": {
    "collapsed": false
   },
   "outputs": [
    {
     "data": {
      "text/plain": [
       "<matplotlib.figure.Figure at 0x7fa0d6dfbb38>"
      ]
     },
     "metadata": {},
     "output_type": "display_data"
    },
    {
     "data": {
      "image/png": "[encoded data removed]",
      "text/plain": [
       "<matplotlib.figure.Figure at 0x7fa0d6d76940>"
      ]
     },
     "metadata": {},
     "output_type": "display_data"
    }
   ],
   "source": [
    "plt.figure(figsize=(12,10))\n",
    "test_set.plot()\n",
    "plt.tight_layout()"
   ]
  },
  {
   "cell_type": "code",
   "execution_count": null,
   "metadata": {
    "collapsed": false
   },
   "outputs": [],
   "source": []
  },
  {
   "cell_type": "markdown",
   "metadata": {},
   "source": [
    "# Experiment with Periodic Behaviour: Sin Function"
   ]
  },
  {
   "cell_type": "code",
   "execution_count": 4,
   "metadata": {
    "collapsed": true
   },
   "outputs": [],
   "source": [
    "class TimeSeriesData():\n",
    "    \n",
    "    def __init__(self,num_points,xmin,xmax):\n",
    "        \n",
    "        self.xmin = xmin\n",
    "        self.xmax = xmax\n",
    "        self.num_points = num_points\n",
    "        self.resolution = (xmax-xmin)/num_points \n",
    "        self.x_data = np.linspace(xmin,xmax,num_points)\n",
    "        self.y_true = np.sin(self.x_data)\n",
    "    \n",
    "    def ret_true(self,x_series):\n",
    "        # useful to compare the data that we do not have\n",
    "        return np.sin(x_series)\n",
    "    \n",
    "    def next_batch(self,batch_size,steps,return_batch_ts=False):\n",
    "        \n",
    "        # generate a random starting point for each batch\n",
    "        rand_start = np.random.rand(batch_size,1) \n",
    "        \n",
    "        # making sure the starting point be on time series\n",
    "        ts_start = rand_start * (self.xmax- self.xmin - (steps*self.resolution) )\n",
    "        \n",
    "        # Create batch ts on the x axis\n",
    "        batch_ts = ts_start + np.arange(0.0,steps+1) * self.resolution\n",
    "        \n",
    "        # Create Y data associating with the batch_ts time series \n",
    "        y_batch = np.sin(batch_ts)\n",
    "        \n",
    "        # Format for RNN\n",
    "        if return_batch_ts:\n",
    "            # return the y_batch along with batch_ts\n",
    "            return y_batch[:, :-1].reshape(-1, steps, 1), y_batch[:, 1:].reshape(-1, steps, 1) ,batch_ts\n",
    "            # include the 3rd element batch_ts if we also want the info of x axis\n",
    "        else:\n",
    "            \n",
    "            return y_batch[:, :-1].reshape(-1, steps, 1), y_batch[:, 1:].reshape(-1, steps, 1) \n",
    "            # y_batch[:, :-1].reshape(-1, steps, 1) represent the time series\n",
    "            # y_batch[:, 1:].reshape(-1, steps, 1) represents the time series shifted 1 step forward"
   ]
  },
  {
   "cell_type": "code",
   "execution_count": 8,
   "metadata": {
    "collapsed": true
   },
   "outputs": [],
   "source": [
    "ts_data = TimeSeriesData(300,0,10)"
   ]
  },
  {
   "cell_type": "code",
   "execution_count": 9,
   "metadata": {
    "collapsed": false
   },
   "outputs": [
    {
     "data": {
      "text/plain": [
       "[<matplotlib.lines.Line2D at 0x7effbe6a2ba8>]"
      ]
     },
     "execution_count": 9,
     "metadata": {},
     "output_type": "execute_result"
    },
    {
     "data": {
      "image/png": "[encoded data removed]",
      "text/plain": [
       "<matplotlib.figure.Figure at 0x7effbe720ac8>"
      ]
     },
     "metadata": {},
     "output_type": "display_data"
    }
   ],
   "source": [
    "plt.plot(ts_data.x_data,ts_data.y_true)"
   ]
  },
  {
   "cell_type": "code",
   "execution_count": 10,
   "metadata": {
    "collapsed": false
   },
   "outputs": [
    {
     "data": {
      "text/plain": [
       "<__main__.TimeSeriesData at 0x7effbe6c6358>"
      ]
     },
     "execution_count": 10,
     "metadata": {},
     "output_type": "execute_result"
    }
   ],
   "source": [
    "ts_data"
   ]
  },
  {
   "cell_type": "code",
   "execution_count": 11,
   "metadata": {
    "collapsed": true
   },
   "outputs": [],
   "source": [
    "# Num of steps in batch (also used for prediction steps into the future)\n",
    "num_time_steps = 30"
   ]
  },
  {
   "cell_type": "code",
   "execution_count": 12,
   "metadata": {
    "collapsed": true
   },
   "outputs": [],
   "source": [
    "y1,y2,ts = ts_data.next_batch(1,num_time_steps,True) \n",
    "# True means that we want y_batch along with batch_ts\n",
    "# y1 current time series\n",
    "# y2 time series shifted 1 forward"
   ]
  },
  {
   "cell_type": "code",
   "execution_count": 13,
   "metadata": {
    "collapsed": false,
    "scrolled": true
   },
   "outputs": [
    {
     "data": {
      "text/plain": [
       "numpy.ndarray"
      ]
     },
     "execution_count": 13,
     "metadata": {},
     "output_type": "execute_result"
    }
   ],
   "source": [
    "type(y1)"
   ]
  },
  {
   "cell_type": "code",
   "execution_count": 14,
   "metadata": {
    "collapsed": false
   },
   "outputs": [
    {
     "data": {
      "text/plain": [
       "array([[ 3.01229863,  3.04563196,  3.0789653 ,  3.11229863,  3.14563196,\n",
       "         3.1789653 ,  3.21229863,  3.24563196,  3.2789653 ,  3.31229863,\n",
       "         3.34563196,  3.3789653 ,  3.41229863,  3.44563196,  3.4789653 ,\n",
       "         3.51229863,  3.54563196,  3.5789653 ,  3.61229863,  3.64563196,\n",
       "         3.6789653 ,  3.71229863,  3.74563196,  3.7789653 ,  3.81229863,\n",
       "         3.84563196,  3.8789653 ,  3.91229863,  3.94563196,  3.9789653 ,\n",
       "         4.01229863]])"
      ]
     },
     "execution_count": 14,
     "metadata": {},
     "output_type": "execute_result"
    }
   ],
   "source": [
    "ts"
   ]
  },
  {
   "cell_type": "code",
   "execution_count": 15,
   "metadata": {
    "collapsed": false
   },
   "outputs": [
    {
     "data": {
      "text/plain": [
       "array([ 3.01229863,  3.04563196,  3.0789653 ,  3.11229863,  3.14563196,\n",
       "        3.1789653 ,  3.21229863,  3.24563196,  3.2789653 ,  3.31229863,\n",
       "        3.34563196,  3.3789653 ,  3.41229863,  3.44563196,  3.4789653 ,\n",
       "        3.51229863,  3.54563196,  3.5789653 ,  3.61229863,  3.64563196,\n",
       "        3.6789653 ,  3.71229863,  3.74563196,  3.7789653 ,  3.81229863,\n",
       "        3.84563196,  3.8789653 ,  3.91229863,  3.94563196,  3.9789653 ,\n",
       "        4.01229863])"
      ]
     },
     "execution_count": 15,
     "metadata": {},
     "output_type": "execute_result"
    }
   ],
   "source": [
    "ts.flatten()"
   ]
  },
  {
   "cell_type": "code",
   "execution_count": 16,
   "metadata": {
    "collapsed": false
   },
   "outputs": [
    {
     "data": {
      "text/plain": [
       "(1, 30, 1)"
      ]
     },
     "execution_count": 16,
     "metadata": {},
     "output_type": "execute_result"
    }
   ],
   "source": [
    "y2.shape"
   ]
  },
  {
   "cell_type": "code",
   "execution_count": 17,
   "metadata": {
    "collapsed": false
   },
   "outputs": [
    {
     "data": {
      "text/plain": [
       "(1, 30, 1)"
      ]
     },
     "execution_count": 17,
     "metadata": {},
     "output_type": "execute_result"
    }
   ],
   "source": [
    "y1.shape"
   ]
  },
  {
   "cell_type": "code",
   "execution_count": 18,
   "metadata": {
    "collapsed": false
   },
   "outputs": [
    {
     "data": {
      "text/plain": [
       "[<matplotlib.lines.Line2D at 0x7effbe61f0b8>]"
      ]
     },
     "execution_count": 18,
     "metadata": {},
     "output_type": "execute_result"
    },
    {
     "data": {
      "image/png": "[encoded data removed]",
      "text/plain": [
       "<matplotlib.figure.Figure at 0x7effbe64f128>"
      ]
     },
     "metadata": {},
     "output_type": "display_data"
    }
   ],
   "source": [
    "plt.plot(ts.flatten()[1:],y2.flatten(),'o')"
   ]
  },
  {
   "cell_type": "code",
   "execution_count": 19,
   "metadata": {
    "collapsed": false
   },
   "outputs": [
    {
     "data": {
      "image/png": "[encoded data removed]",
      "text/plain": [
       "<matplotlib.figure.Figure at 0x7effbe62cf98>"
      ]
     },
     "metadata": {},
     "output_type": "display_data"
    }
   ],
   "source": [
    "plt.plot(ts_data.x_data,ts_data.y_true,label='sin(t)')\n",
    "plt.plot(ts.flatten()[1:],y2.flatten(),'ro',label='Single Training Instance')\n",
    "plt.legend()\n",
    "plt.tight_layout()"
   ]
  },
  {
   "cell_type": "markdown",
   "metadata": {},
   "source": [
    "### A Training Instance and what to predict\n",
    "\n",
    "We are trying to predict a time series shifted over by t+1"
   ]
  },
  {
   "cell_type": "code",
   "execution_count": 88,
   "metadata": {
    "collapsed": true
   },
   "outputs": [],
   "source": [
    "train_inst = np.linspace(5,5 + ts_data.resolution * (num_time_steps + 3), num_time_steps+3)"
   ]
  },
  {
   "cell_type": "code",
   "execution_count": 89,
   "metadata": {
    "collapsed": false
   },
   "outputs": [
    {
     "data": {
      "text/plain": [
       "array([ 5.     ,  5.04125,  5.0825 ,  5.12375,  5.165  ,  5.20625,\n",
       "        5.2475 ,  5.28875,  5.33   ,  5.37125,  5.4125 ,  5.45375,\n",
       "        5.495  ,  5.53625,  5.5775 ,  5.61875,  5.66   ,  5.70125,\n",
       "        5.7425 ,  5.78375,  5.825  ,  5.86625,  5.9075 ,  5.94875,\n",
       "        5.99   ,  6.03125,  6.0725 ,  6.11375,  6.155  ,  6.19625,\n",
       "        6.2375 ,  6.27875,  6.32   ])"
      ]
     },
     "execution_count": 89,
     "metadata": {},
     "output_type": "execute_result"
    }
   ],
   "source": [
    "train_inst"
   ]
  },
  {
   "cell_type": "code",
   "execution_count": 91,
   "metadata": {
    "collapsed": false
   },
   "outputs": [
    {
     "data": {
      "image/png": "[encoded data removed]",
      "text/plain": [
       "<matplotlib.figure.Figure at 0x7fee9eaaeda0>"
      ]
     },
     "metadata": {},
     "output_type": "display_data"
    }
   ],
   "source": [
    "plt.title(\"A training instance\", fontsize=14)\n",
    "plt.plot(train_inst[:-3], ts_data.ret_true(train_inst[:-3]), \"ro\", markersize=15,alpha=0.5 ,label=\"instance\")\n",
    "plt.plot(train_inst[3:], ts_data.ret_true(train_inst[3:]), \"ko\", markersize=7, label=\"target\")\n",
    "plt.legend()\n",
    "plt.tight_layout()"
   ]
  },
  {
   "cell_type": "markdown",
   "metadata": {},
   "source": [
    "___________"
   ]
  },
  {
   "cell_type": "markdown",
   "metadata": {},
   "source": [
    "# Creating the Model"
   ]
  },
  {
   "cell_type": "code",
   "execution_count": 92,
   "metadata": {
    "collapsed": true
   },
   "outputs": [],
   "source": [
    "tf.reset_default_graph()"
   ]
  },
  {
   "cell_type": "markdown",
   "metadata": {},
   "source": [
    "### Constants"
   ]
  },
  {
   "cell_type": "code",
   "execution_count": 94,
   "metadata": {
    "collapsed": true
   },
   "outputs": [],
   "source": [
    "# Just one feature, the time series: given x, what is y\n",
    "num_inputs = 1\n",
    "# 100 neuron layer- varies: this will in turn output 100 output (time series)\n",
    "# but we only need 1 output/time series so we will need PRJOECT WRAPPER\n",
    "num_neurons = 100\n",
    "# Just one output, predicted time series\n",
    "num_outputs = 1\n",
    "# learning rate, 0.0001 default- varies\n",
    "learning_rate = 0.0001\n",
    "# how many iterations to go through (training steps)- varies\n",
    "num_train_iterations = 2700\n",
    "# Size of the batch of data\n",
    "batch_size = 1"
   ]
  },
  {
   "cell_type": "markdown",
   "metadata": {},
   "source": [
    "### Placeholders"
   ]
  },
  {
   "cell_type": "code",
   "execution_count": 95,
   "metadata": {
    "collapsed": true
   },
   "outputs": [],
   "source": [
    "X = tf.placeholder(tf.float32, [None, num_time_steps, num_inputs]) \n",
    "y = tf.placeholder(tf.float32, [None, num_time_steps, num_outputs])"
   ]
  },
  {
   "cell_type": "markdown",
   "metadata": {},
   "source": [
    "____\n",
    "____\n",
    "### RNN Cell Layer\n",
    "\n",
    "##### Try different cell to see how the performance change"
   ]
  },
  {
   "cell_type": "code",
   "execution_count": 51,
   "metadata": {
    "collapsed": true
   },
   "outputs": [],
   "source": [
    "#cell = tf.contrib.rnn.OutputProjectionWrapper(\n",
    "#    tf.contrib.rnn.BasicRNNCell(num_units=num_neurons, activation=tf.nn.relu),\n",
    "#    output_size=num_outputs) # output size here we need only 1"
   ]
  },
  {
   "cell_type": "code",
   "execution_count": 96,
   "metadata": {
    "collapsed": true
   },
   "outputs": [],
   "source": [
    "cell = tf.contrib.rnn.OutputProjectionWrapper(\n",
    "    tf.contrib.rnn.BasicLSTMCell(num_units=num_neurons, activation=tf.nn.relu),\n",
    "    output_size=num_outputs)"
   ]
  },
  {
   "cell_type": "markdown",
   "metadata": {},
   "source": [
    "_____\n",
    "_____"
   ]
  },
  {
   "cell_type": "code",
   "execution_count": 97,
   "metadata": {
    "collapsed": false
   },
   "outputs": [],
   "source": [
    "#Dynamic cell:\n",
    "outputs, states = tf.nn.dynamic_rnn(cell, X, dtype=tf.float32)\n",
    "# dynamic rnn using the declared cell\n",
    "# automatically output BOTH the output and the state of the cell\n",
    "# it performs the dynamic unrolling of the inputs --> using while loop ops to run over the cell appropriate times"
   ]
  },
  {
   "cell_type": "code",
   "execution_count": 98,
   "metadata": {
    "collapsed": false
   },
   "outputs": [
    {
     "data": {
      "text/plain": [
       "<tf.Tensor 'rnn/transpose:0' shape=(?, 30, 1) dtype=float32>"
      ]
     },
     "execution_count": 98,
     "metadata": {},
     "output_type": "execute_result"
    }
   ],
   "source": [
    "outputs"
   ]
  },
  {
   "cell_type": "code",
   "execution_count": 99,
   "metadata": {
    "collapsed": false
   },
   "outputs": [
    {
     "data": {
      "text/plain": [
       "LSTMStateTuple(c=<tf.Tensor 'rnn/while/Exit_2:0' shape=(?, 100) dtype=float32>, h=<tf.Tensor 'rnn/while/Exit_3:0' shape=(?, 100) dtype=float32>)"
      ]
     },
     "execution_count": 99,
     "metadata": {},
     "output_type": "execute_result"
    }
   ],
   "source": [
    "states"
   ]
  },
  {
   "cell_type": "markdown",
   "metadata": {},
   "source": [
    "### Loss Function and Optimizer"
   ]
  },
  {
   "cell_type": "code",
   "execution_count": 100,
   "metadata": {
    "collapsed": true
   },
   "outputs": [],
   "source": [
    "loss = tf.reduce_mean(tf.square(outputs - y)) # MSE\n",
    "optimizer = tf.train.AdamOptimizer(learning_rate=learning_rate)\n",
    "train = optimizer.minimize(loss)"
   ]
  },
  {
   "cell_type": "markdown",
   "metadata": {},
   "source": [
    "#### Init Variables"
   ]
  },
  {
   "cell_type": "code",
   "execution_count": 101,
   "metadata": {
    "collapsed": true
   },
   "outputs": [],
   "source": [
    "init = tf.global_variables_initializer()"
   ]
  },
  {
   "cell_type": "markdown",
   "metadata": {},
   "source": [
    "## Session"
   ]
  },
  {
   "cell_type": "code",
   "execution_count": 102,
   "metadata": {
    "collapsed": true
   },
   "outputs": [],
   "source": [
    "# GPU setup\n",
    "# https://stackoverflow.com/questions/34199233/how-to-prevent-tensorflow-from-allocating-the-totality-of-a-gpu-memory\n",
    "gpu_options = tf.GPUOptions(per_process_gpu_memory_fraction=0.6)"
   ]
  },
  {
   "cell_type": "code",
   "execution_count": 103,
   "metadata": {
    "collapsed": true
   },
   "outputs": [],
   "source": [
    "saver = tf.train.Saver()"
   ]
  },
  {
   "cell_type": "code",
   "execution_count": 104,
   "metadata": {
    "collapsed": false
   },
   "outputs": [
    {
     "name": "stdout",
     "output_type": "stream",
     "text": [
      "0 \tMSE: 0.189771\n",
      "100 \tMSE: 0.50787\n",
      "200 \tMSE: 0.0967107\n",
      "300 \tMSE: 0.181634\n",
      "400 \tMSE: 0.0641916\n",
      "500 \tMSE: 0.0288956\n",
      "600 \tMSE: 0.0950314\n",
      "700 \tMSE: 0.0837857\n",
      "800 \tMSE: 0.0333229\n",
      "900 \tMSE: 0.062493\n",
      "1000 \tMSE: 0.04079\n",
      "1100 \tMSE: 0.0379786\n",
      "1200 \tMSE: 0.0665487\n",
      "1300 \tMSE: 0.0638573\n",
      "1400 \tMSE: 0.0152734\n",
      "1500 \tMSE: 0.00466878\n",
      "1600 \tMSE: 0.0379365\n",
      "1700 \tMSE: 0.0598034\n",
      "1800 \tMSE: 0.00401123\n",
      "1900 \tMSE: 0.00836776\n",
      "2000 \tMSE: 0.00649351\n",
      "2100 \tMSE: 0.0044065\n",
      "2200 \tMSE: 0.00185447\n",
      "2300 \tMSE: 0.00103223\n",
      "2400 \tMSE: 0.0123655\n",
      "2500 \tMSE: 0.00123552\n",
      "2600 \tMSE: 0.0511518\n"
     ]
    }
   ],
   "source": [
    "with tf.Session(config=tf.ConfigProto(gpu_options=gpu_options)) as sess:\n",
    "    sess.run(init)\n",
    "    \n",
    "    for iteration in range(num_train_iterations):\n",
    "        \n",
    "        X_batch, y_batch = ts_data.next_batch(batch_size, num_time_steps)\n",
    "        sess.run(train, feed_dict={X: X_batch, y: y_batch})\n",
    "        \n",
    "        if iteration % 100 == 0:\n",
    "            \n",
    "            mse = loss.eval(feed_dict={X: X_batch, y: y_batch})\n",
    "            print(iteration, \"\\tMSE:\", mse)\n",
    "    \n",
    "    # Save Model for Later\n",
    "    saver.save(sess, \"./rnn_hq2n_LSTM_3fwd\")"
   ]
  },
  {
   "cell_type": "markdown",
   "metadata": {},
   "source": [
    "### Predicting a time series t+3"
   ]
  },
  {
   "cell_type": "code",
   "execution_count": 106,
   "metadata": {
    "collapsed": false
   },
   "outputs": [
    {
     "name": "stdout",
     "output_type": "stream",
     "text": [
      "INFO:tensorflow:Restoring parameters from ./rnn_hq2n_LSTM_3fwd\n"
     ]
    }
   ],
   "source": [
    "with tf.Session() as sess:                          \n",
    "    saver.restore(sess, \"./rnn_hq2n_LSTM_3fwd\")   \n",
    "\n",
    "    X_new = np.cos(np.array(train_inst[:-3].reshape(-1, num_time_steps, num_inputs)))\n",
    "    y_pred = sess.run(outputs, feed_dict={X: X_new})"
   ]
  },
  {
   "cell_type": "code",
   "execution_count": 107,
   "metadata": {
    "collapsed": false,
    "scrolled": true
   },
   "outputs": [
    {
     "data": {
      "image/png": "[encoded data removed]",
      "text/plain": [
       "<matplotlib.figure.Figure at 0x7feeb7185d68>"
      ]
     },
     "metadata": {},
     "output_type": "display_data"
    },
    {
     "data": {
      "text/plain": [
       "<matplotlib.figure.Figure at 0x7fee90746ef0>"
      ]
     },
     "metadata": {},
     "output_type": "display_data"
    }
   ],
   "source": [
    "plt.title(\"Testing Model\")\n",
    "\n",
    "# Training Instance\n",
    "plt.plot(train_inst[:-3], np.cos(train_inst[:-3]), \"ro\", markersize=15,alpha=0.5, label=\"Training Set\")\n",
    "\n",
    "# Target to Predict\n",
    "plt.plot(train_inst[3:], np.cos(train_inst[3:]), \"ko\", markersize=7, label=\"Expected\")\n",
    "\n",
    "# Models Prediction\n",
    "plt.plot(train_inst[3:], y_pred[0,:,0], \"b+\", markersize=10, label=\"Prediction\")\n",
    "\n",
    "plt.xlabel(\"Time\")\n",
    "plt.legend()\n",
    "plt.tight_layout()\n",
    "fig = plt.figure(figsize = (12,10))"
   ]
  },
  {
   "cell_type": "markdown",
   "metadata": {
    "collapsed": true
   },
   "source": []
  }
 ],
 "metadata": {
  "anaconda-cloud": {},
  "kernelspec": {
   "display_name": "Python [default]",
   "language": "python",
   "name": "python3"
  },
  "language_info": {
   "codemirror_mode": {
    "name": "ipython",
    "version": 3
   },
   "file_extension": ".py",
   "mimetype": "text/x-python",
   "name": "python",
   "nbconvert_exporter": "python",
   "pygments_lexer": "ipython3",
   "version": "3.5.2"
  }
 },
 "nbformat": 4,
 "nbformat_minor": 2
}
